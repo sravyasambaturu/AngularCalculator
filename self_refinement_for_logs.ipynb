{
  "nbformat": 4,
  "nbformat_minor": 0,
  "metadata": {
    "colab": {
      "provenance": [],
      "authorship_tag": "ABX9TyP6TiK/FIsiXMKbnXPIPG+U",
      "include_colab_link": true
    },
    "kernelspec": {
      "name": "python3",
      "display_name": "Python 3"
    },
    "language_info": {
      "name": "python"
    }
  },
  "cells": [
    {
      "cell_type": "markdown",
      "metadata": {
        "id": "view-in-github",
        "colab_type": "text"
      },
      "source": [
        "<a href=\"https://colab.research.google.com/github/sravyasambaturu/AngularCalculator/blob/master/self_refinement_for_logs.ipynb\" target=\"_parent\"><img src=\"https://colab.research.google.com/assets/colab-badge.svg\" alt=\"Open In Colab\"/></a>"
      ]
    },
    {
      "cell_type": "code",
      "execution_count": 1,
      "metadata": {
        "colab": {
          "base_uri": "https://localhost:8080/"
        },
        "id": "60hLvY2zjZAD",
        "outputId": "46511d87-28df-4ddf-ecbc-394dbbe55714"
      },
      "outputs": [
        {
          "output_type": "stream",
          "name": "stdout",
          "text": [
            "Requirement already satisfied: pandas in /usr/local/lib/python3.11/dist-packages (2.2.2)\n",
            "Requirement already satisfied: openpyxl in /usr/local/lib/python3.11/dist-packages (3.1.5)\n",
            "Requirement already satisfied: numpy>=1.23.2 in /usr/local/lib/python3.11/dist-packages (from pandas) (2.0.2)\n",
            "Requirement already satisfied: python-dateutil>=2.8.2 in /usr/local/lib/python3.11/dist-packages (from pandas) (2.8.2)\n",
            "Requirement already satisfied: pytz>=2020.1 in /usr/local/lib/python3.11/dist-packages (from pandas) (2025.2)\n",
            "Requirement already satisfied: tzdata>=2022.7 in /usr/local/lib/python3.11/dist-packages (from pandas) (2025.2)\n",
            "Requirement already satisfied: et-xmlfile in /usr/local/lib/python3.11/dist-packages (from openpyxl) (2.0.0)\n",
            "Requirement already satisfied: six>=1.5 in /usr/local/lib/python3.11/dist-packages (from python-dateutil>=2.8.2->pandas) (1.17.0)\n"
          ]
        }
      ],
      "source": [
        "pip install pandas openpyxl\n"
      ]
    },
    {
      "cell_type": "code",
      "source": [
        "import pandas as pd\n",
        "\n",
        "# Define the path to your Excel file\n",
        "excel_file_path = '/content/Copy of survey_data.xlsx'\n",
        "\n",
        "# Read all the explanation sheets into a dictionary of dataframes\n",
        "dfs = {}\n",
        "for i in range(10):  # Assuming sheets are named 'explanation 0' to 'explanation 9'\n",
        "    sheet_name = f'Explanation {i}'\n",
        "    dfs[sheet_name] = pd.read_excel(excel_file_path, sheet_name=sheet_name)\n",
        "\n",
        "# Combine all the dataframes into one\n",
        "combined_df = pd.concat(dfs.values(), ignore_index=True)\n",
        "\n",
        "# Optional: save the combined dataframe into a new Excel file\n",
        "combined_df.to_excel('combined_explanations.xlsx', index=False)\n",
        "\n",
        "# Display the first few rows of the combined table\n",
        "print(combined_df.head())\n"
      ],
      "metadata": {
        "colab": {
          "base_uri": "https://localhost:8080/"
        },
        "id": "_YAr2Nz-jldB",
        "outputId": "a3ad179d-9661-42b5-cc66-ce8f8671a471"
      },
      "execution_count": 3,
      "outputs": [
        {
          "output_type": "stream",
          "name": "stdout",
          "text": [
            "   Line number                                  Error information  \\\n",
            "0          1.0  Error response from daemon: manifest for medic...   \n",
            "1          2.0                                                NaN   \n",
            "2          3.0        1) \"before all\" hook: beforeAll in \"{root}\"   \n",
            "3          4.0                                                NaN   \n",
            "4          5.0                                          1 failing   \n",
            "\n",
            "                                      Log file  IsText  \\\n",
            "0  ##[group]Run npm run ci-integration-all-k3d     0.0   \n",
            "1               npm run ci-integration-all-k3d     0.0   \n",
            "2                  shell: /usr/bin/bash -e {0}     0.0   \n",
            "3                                         env:     0.0   \n",
            "4      COUCH_URL: ***localhost:5984/medic-test     0.0   \n",
            "\n",
            "                                         Explanation  \n",
            "0  The error message \"Error response from daemon:...  \n",
            "1                                                NaN  \n",
            "2  This error typically occurs when the Docker im...  \n",
            "3                                                NaN  \n",
            "4                                Possible solutions:  \n"
          ]
        }
      ]
    }
  ]
}